{
 "cells": [
  {
   "cell_type": "code",
   "execution_count": 1,
   "id": "88878cd9",
   "metadata": {},
   "outputs": [
    {
     "name": "stdout",
     "output_type": "stream",
     "text": [
      "Ranjeet\n",
      "Raju\n",
      "Prince\n",
      "Bipul\n",
      "Kislay\n",
      "['Ranjeet', 'Raju', 'Prince', 'Bipul', 'Kislay']\n"
     ]
    }
   ],
   "source": [
    "userinput=[]\n",
    "for n in range(5):\n",
    "    value=input()\n",
    "    userinput.append(value)\n",
    "print(userinput)    "
   ]
  },
  {
   "cell_type": "code",
   "execution_count": 1,
   "id": "d7666a21",
   "metadata": {},
   "outputs": [
    {
     "data": {
      "text/plain": [
       "55"
      ]
     },
     "execution_count": 1,
     "metadata": {},
     "output_type": "execute_result"
    }
   ],
   "source": [
    "a=10\n",
    "b=45\n",
    "a+b"
   ]
  },
  {
   "cell_type": "code",
   "execution_count": 2,
   "id": "31e87715",
   "metadata": {},
   "outputs": [
    {
     "data": {
      "text/plain": [
       "55"
      ]
     },
     "execution_count": 2,
     "metadata": {},
     "output_type": "execute_result"
    }
   ],
   "source": [
    "a+b"
   ]
  },
  {
   "cell_type": "code",
   "execution_count": 5,
   "id": "bd8f7cb0",
   "metadata": {},
   "outputs": [
    {
     "name": "stdout",
     "output_type": "stream",
     "text": [
      "j\n",
      "jk\n",
      "kl\n",
      "['j', 'jk', 'kl']\n"
     ]
    }
   ],
   "source": [
    "userInput=[]\n",
    "for n in range(3):\n",
    "    value=input()\n",
    "    userInput.append(value)\n",
    "print(userInput)    "
   ]
  },
  {
   "cell_type": "code",
   "execution_count": 4,
   "id": "34159d9f",
   "metadata": {},
   "outputs": [
    {
     "name": "stdout",
     "output_type": "stream",
     "text": [
      "# \n",
      "# # \n",
      "# # # \n",
      "# # # # \n",
      "# # # # # \n",
      "# # # # # # \n",
      "* * * * * \n",
      "* * * * \n",
      "* * * \n",
      "* * \n",
      "* \n",
      "\n"
     ]
    }
   ],
   "source": [
    "n=6\n",
    "for i in range(n):\n",
    "    for j in range(i+1):\n",
    "        print(\"#\", end=\" \")\n",
    "    print(\"\")\n",
    "    \n",
    "for k in range(n,0,-1):\n",
    "    m=k\n",
    "    for m in range(m-1,0,-1):\n",
    "             print(\"*\",end=\" \")\n",
    "    print(\"\")   "
   ]
  },
  {
   "cell_type": "code",
   "execution_count": 4,
   "id": "7f49b7d4",
   "metadata": {},
   "outputs": [
    {
     "name": "stdout",
     "output_type": "stream",
     "text": [
      "Enter No:11\n",
      "# \n",
      "# # \n",
      "# # # \n",
      "# # # # \n",
      "# # # # # \n",
      "# # # # # # \n",
      "# # # # # # # \n",
      "# # # # # # # # \n",
      "# # # # # # # # # \n",
      "# # # # # # # # # # \n",
      "# # # # # # # # # # # \n",
      "# # # # # # # # # # \n",
      "# # # # # # # # # \n",
      "# # # # # # # # \n",
      "# # # # # # # \n",
      "# # # # # # \n",
      "# # # # # \n",
      "# # # # \n",
      "# # # \n",
      "# # \n",
      "# \n",
      "\n"
     ]
    }
   ],
   "source": [
    "n=int(input(\"Enter No:\"))\n",
    "for i in range(n):\n",
    "    for j in range(i+1):\n",
    "        print(\"#\", end=\" \")\n",
    "    print(\"\")\n",
    "    \n",
    "for k in range(n,0,-1):\n",
    "    m=k\n",
    "    for m in range(m-1,0,-1):\n",
    "             print(\"#\",end=\" \")\n",
    "    print(\"\")   "
   ]
  },
  {
   "cell_type": "code",
   "execution_count": 6,
   "id": "993dc205",
   "metadata": {},
   "outputs": [
    {
     "name": "stdout",
     "output_type": "stream",
     "text": [
      "11\n",
      "............\n",
      "............\n",
      "............\n",
      "............\n",
      "............\n",
      "............\n",
      "............\n",
      "............\n",
      "............\n",
      "............\n",
      "............\n"
     ]
    }
   ],
   "source": [
    "n=int(input())\n",
    "for i in range(0,n):\n",
    "    for j in range(n+1):\n",
    "        print(\".\", end=\"\")\n",
    "    print(\"\")\n",
    "for i in range(n-2,-1):\n",
    "     for j in range(n-1):\n",
    "        print(\".\",end=\"\")\n",
    "     print(\"\")"
   ]
  },
  {
   "cell_type": "code",
   "execution_count": 26,
   "id": "969df761",
   "metadata": {},
   "outputs": [
    {
     "name": "stdout",
     "output_type": "stream",
     "text": [
      "The count of  1 is: 1\n",
      "The count of  2 is: 2\n",
      "The count of  3 is: 2\n",
      "The count of  4 is: 1\n",
      "The count of  5 is: 1\n",
      "The count of  8 is: 2\n"
     ]
    }
   ],
   "source": [
    "l = [[1,2,2,3,3],[2,4,2,2,5],[1,5,8,8,2]]\n",
    "x = []\n",
    "for i in l:\n",
    "    if type(i)== list:\n",
    "        for j in i:\n",
    "            if j not in x:\n",
    "                x.append(j)\n",
    "                print(\"The count of \",j,\"is:\",i.count(j))\n",
    "            else:\n",
    "                x.append(j)"
   ]
  },
  {
   "cell_type": "code",
   "execution_count": 21,
   "id": "ac4e3b66",
   "metadata": {},
   "outputs": [
    {
     "name": "stdout",
     "output_type": "stream",
     "text": [
      "Enter a no.8\n",
      "                  \n",
      "        .         \n",
      "       . .        \n",
      "      . . .       \n",
      "     . . . .      \n",
      "    . . . . .     \n",
      "   . . . . . .    \n",
      "  . . . . . . .   \n",
      "   . . . . . .    \n",
      "    . . . . .     \n",
      "     . . . .      \n",
      "      . . .       \n",
      "       . .        \n",
      "        .         \n"
     ]
    }
   ],
   "source": [
    "n= int(input(\"Enter a no.\"))\n",
    "\n",
    "for i in range(0,n):\n",
    "    print(\" \"*(n-i),\". \"* i,\" \"*(n-i))\n",
    "for i in range(n-2,0,-1):\n",
    "    print(\" \"*(n-i),\". \"* i,\" \"*(n-i))"
   ]
  },
  {
   "cell_type": "code",
   "execution_count": 24,
   "id": "bb3f7cc2",
   "metadata": {},
   "outputs": [
    {
     "name": "stdout",
     "output_type": "stream",
     "text": [
      "Enter no:65\n",
      "Pass\n"
     ]
    }
   ],
   "source": [
    "a=int(input(\"Enter no:\"))\n",
    "if a>25:\n",
    "    print(\"Pass\")\n",
    "else:\n",
    "        print(\"Fail\")"
   ]
  },
  {
   "cell_type": "code",
   "execution_count": 28,
   "id": "be05e9a8",
   "metadata": {},
   "outputs": [
    {
     "name": "stdout",
     "output_type": "stream",
     "text": [
      "Banglore\n"
     ]
    }
   ],
   "source": [
    "a = 10 \n",
    "if a == 30 :\n",
    "    print(\"Kolkata\")\n",
    "elif type(a) == int: \n",
    "    print(\"Banglore\")\n",
    "elif a < 20 :\n",
    "    print(\"pune\")\n",
    "else :\n",
    "    print(\"Hydrrabad\")"
   ]
  },
  {
   "cell_type": "code",
   "execution_count": 27,
   "id": "d1fda9c8",
   "metadata": {},
   "outputs": [
    {
     "name": "stdout",
     "output_type": "stream",
     "text": [
      "20\n",
      "Yellow \n"
     ]
    }
   ],
   "source": [
    "Discount = int(input())\n",
    "if Discount == 50 :\n",
    "    print(\"Green \")\n",
    "elif Discount == 30 :\n",
    "    print(\"Blue \")\n",
    "elif Discount == 20 :\n",
    "    print(\"Yellow \")\n",
    "elif Discount > 10 :\n",
    "    print(\"Purpule \")\n",
    "else :\n",
    "    print(\"red\")"
   ]
  },
  {
   "cell_type": "code",
   "execution_count": 31,
   "id": "98dffe5f",
   "metadata": {},
   "outputs": [
    {
     "name": "stdout",
     "output_type": "stream",
     "text": [
      "8000\n",
      "IBM \n",
      "Amazon \n",
      "Google\n"
     ]
    }
   ],
   "source": [
    "income = int(input())\n",
    "if income > 1000:\n",
    "    print(\"IBM \")\n",
    "    if income > 2000:\n",
    "        print(\"Amazon \")\n",
    "        if income > 2200 :\n",
    "            print(\"Google\")\n",
    "        elif income > 2300:\n",
    "            print(\"Microsoft \")\n",
    "        else :\n",
    "            print(\"Cisco \")\n",
    "    elif income < 1500:\n",
    "        print(\"infosys \")\n",
    "    else :\n",
    "        print(\"Aceenture\")\n",
    "    \n",
    "elif income >800:\n",
    "    print(\"Facebook\")\n",
    "else :\n",
    "    print(\"Not Eligble\")"
   ]
  },
  {
   "cell_type": "code",
   "execution_count": 32,
   "id": "e2be01dd",
   "metadata": {},
   "outputs": [
    {
     "name": "stdout",
     "output_type": "stream",
     "text": [
      "Ranjeet\n",
      "[1, 2, 3, 4, 5]\n",
      "(2, 3, 4, 5, 6)\n",
      "56\n",
      "67\n",
      "(6+7j)\n",
      "True\n",
      "45.67\n",
      "kumar\n"
     ]
    }
   ],
   "source": [
    "l = [\"Ranjeet\" , [1,2,3,4,5] , (2,3,4,5,6) , 56,67,6+7j , True , 45.67, \"kumar\"]\n",
    "for i in l :\n",
    "    print(i)"
   ]
  },
  {
   "cell_type": "code",
   "execution_count": 33,
   "id": "2d686bbc",
   "metadata": {},
   "outputs": [
    {
     "name": "stdout",
     "output_type": "stream",
     "text": [
      "Ranjeet\n",
      "kumar\n"
     ]
    }
   ],
   "source": [
    "for i in l :\n",
    "    if type(i) == str :\n",
    "        print(i)"
   ]
  },
  {
   "cell_type": "code",
   "execution_count": 34,
   "id": "ac0ad075",
   "metadata": {},
   "outputs": [
    {
     "data": {
      "text/plain": [
       "['Ranjeet',\n",
       " [1, 2, 3, 4, 5],\n",
       " (2, 3, 4, 5, 6),\n",
       " 56,\n",
       " 67,\n",
       " (6+7j),\n",
       " True,\n",
       " 45.67,\n",
       " 'kumar']"
      ]
     },
     "execution_count": 34,
     "metadata": {},
     "output_type": "execute_result"
    }
   ],
   "source": [
    "l"
   ]
  },
  {
   "cell_type": "code",
   "execution_count": 35,
   "id": "5b16bcd5",
   "metadata": {},
   "outputs": [
    {
     "name": "stdout",
     "output_type": "stream",
     "text": [
      "[5, 4, 3, 2, 1]\n"
     ]
    }
   ],
   "source": [
    "for n  in l :\n",
    "    if type(n)== list :\n",
    "        print(n[::-1])"
   ]
  },
  {
   "cell_type": "code",
   "execution_count": 37,
   "id": "6dcb1539",
   "metadata": {},
   "outputs": [
    {
     "name": "stdout",
     "output_type": "stream",
     "text": [
      "(6, 5, 4, 3, 2)\n"
     ]
    }
   ],
   "source": [
    "for n  in l :\n",
    "    if type(n)== tuple :\n",
    "        print(n[::-1])"
   ]
  },
  {
   "cell_type": "code",
   "execution_count": 40,
   "id": "ee71bfd0",
   "metadata": {},
   "outputs": [
    {
     "name": "stdout",
     "output_type": "stream",
     "text": [
      "(2, 3, 4, 5, 6)\n"
     ]
    }
   ],
   "source": [
    "for n  in l :\n",
    "    if type(n)== tuple :\n",
    "        print(n[::])"
   ]
  },
  {
   "cell_type": "code",
   "execution_count": 42,
   "id": "34446b2c",
   "metadata": {},
   "outputs": [
    {
     "name": "stdout",
     "output_type": "stream",
     "text": [
      "R5\n",
      "a5\n",
      "n5\n",
      "j5\n",
      "e5\n",
      "e5\n",
      "t5\n",
      " 5\n",
      "k5\n",
      "u5\n",
      "m5\n",
      "a5\n",
      "r5\n"
     ]
    }
   ],
   "source": [
    "s = \"Ranjeet kumar\"\n",
    "\n",
    "for i in s :\n",
    "    print(i + \"5\")"
   ]
  },
  {
   "cell_type": "code",
   "execution_count": 3,
   "id": "0b3a86c9",
   "metadata": {},
   "outputs": [
    {
     "name": "stdout",
     "output_type": "stream",
     "text": [
      "[2, 3, 3]\n"
     ]
    }
   ],
   "source": [
    "l= [\"hello\",[2,3,3],\"str\", 45.7, 45, True , (2,3,4)]\n",
    "for n in l:\n",
    "    if type(n) == list:\n",
    "        print(n)"
   ]
  },
  {
   "cell_type": "code",
   "execution_count": 5,
   "id": "57bb7c87",
   "metadata": {},
   "outputs": [
    {
     "name": "stdout",
     "output_type": "stream",
     "text": [
      "[1, 2, 3, 4]\n",
      "Jhon\n",
      "(1, 2, 3, 4)\n",
      "Everyone\n",
      "Everyone\n",
      "Everyone\n",
      "Everyone\n",
      "Smith\n"
     ]
    }
   ],
   "source": [
    "li = [[1,2,3,4,], \"Jhon\", (1,2,3,4), 445, 44.8, 3+5j,True,\"Smith\"]\n",
    "for i in li:\n",
    "    if type(i) == list or  type(i) == tuple or  type(i) == str:\n",
    "        print(i)\n",
    "    else :\n",
    "        print(\"Everyone\")"
   ]
  },
  {
   "cell_type": "code",
   "execution_count": 12,
   "id": "b61ddf76",
   "metadata": {},
   "outputs": [
    {
     "name": "stdout",
     "output_type": "stream",
     "text": [
      "N/A \n",
      "Jhon\n",
      "N/A \n",
      "N/A \n",
      "N/A \n",
      "N/A \n",
      "N/A \n",
      "Smith\n"
     ]
    }
   ],
   "source": [
    "li = [[1,2,3,4,], \"Jhon\", (1,2,3,4), 445, 44.8, 3+5j,True,\"Smith\"]\n",
    "for i in li:\n",
    "    if type(i) == list and  type(i) == tuple or  type(i) == str:\n",
    "        print(i)\n",
    "    else :\n",
    "        print(\"N/A \")"
   ]
  },
  {
   "cell_type": "code",
   "execution_count": 11,
   "id": "b0641171",
   "metadata": {},
   "outputs": [
    {
     "name": "stdout",
     "output_type": "stream",
     "text": [
      "[1, 2, 3, 4]\n",
      "N/A \n",
      "(1, 2, 3, 4)\n",
      "N/A \n",
      "N/A \n",
      "N/A \n",
      "N/A \n",
      "N/A \n"
     ]
    }
   ],
   "source": [
    "li = [[1,2,3,4,], \"Jhon\", (1,2,3,4), 445, 44.8, 3+5j,True,\"Smith\"]\n",
    "for i in li:\n",
    "    if type(i) == list or  type(i) == tuple:\n",
    "        print(i)\n",
    "    else :\n",
    "        print(\"N/A \")"
   ]
  },
  {
   "cell_type": "code",
   "execution_count": 14,
   "id": "c38dad9b",
   "metadata": {},
   "outputs": [
    {
     "name": "stdout",
     "output_type": "stream",
     "text": [
      "[1, 2, 3, 4]\n",
      "1\n",
      "2\n",
      "3\n",
      "4\n",
      "(1, 2, 3, 4)\n",
      "1\n",
      "2\n",
      "3\n",
      "4\n"
     ]
    }
   ],
   "source": [
    "li = [[1,2,3,4,], \"Manish\", (1,2,3,4), 445, 44.8, 3+5j,True,\"Kumar\"]\n",
    "\n",
    "for i in li :\n",
    "    #print(i)\n",
    "    if type(i) == list or type(i) == tuple  :\n",
    "        print(i)\n",
    "        for j in i:\n",
    "            print(j)"
   ]
  },
  {
   "cell_type": "code",
   "execution_count": 15,
   "id": "dadc3116",
   "metadata": {},
   "outputs": [
    {
     "name": "stdout",
     "output_type": "stream",
     "text": [
      "1\n",
      "5\n",
      "6\n",
      "7\n",
      "8\n",
      "9\n"
     ]
    }
   ],
   "source": [
    "a=[1,5,6,7,8,9]\n",
    "for i in a:\n",
    "    print(i)"
   ]
  },
  {
   "cell_type": "code",
   "execution_count": 16,
   "id": "136ff96e",
   "metadata": {},
   "outputs": [
    {
     "name": "stdout",
     "output_type": "stream",
     "text": [
      "S 0\n",
      "u 1\n",
      "n 2\n",
      "d 3\n",
      "a 4\n",
      "y 5\n"
     ]
    }
   ],
   "source": [
    "s = \"Sunday\"\n",
    "for i in range(len(s)):\n",
    "    print(s[i] , i)"
   ]
  },
  {
   "cell_type": "code",
   "execution_count": 26,
   "id": "6d6c53f3",
   "metadata": {},
   "outputs": [
    {
     "name": "stdout",
     "output_type": "stream",
     "text": [
      "R 0\n",
      "a 1\n",
      "n 2\n",
      "j 3\n",
      "e 4\n",
      "e 5\n",
      "t 6\n",
      "  7\n",
      "k 8\n",
      "u 9\n",
      "m 10\n",
      "a 11\n",
      "r 12\n"
     ]
    }
   ],
   "source": [
    "a=\"Ranjeet kumar\"\n",
    "for i in range(len(a)):\n",
    "    print(a[i],i)"
   ]
  },
  {
   "cell_type": "code",
   "execution_count": 37,
   "id": "f9edc861",
   "metadata": {},
   "outputs": [
    {
     "name": "stdout",
     "output_type": "stream",
     "text": [
      "[(1, 2, 3, 4), 'aa']\n"
     ]
    }
   ],
   "source": [
    "l=[6,\"aa\"]\n",
    "j=(1,2,3,4)\n",
    "for i in l:\n",
    "    l[0]=j\n",
    "print(l)"
   ]
  },
  {
   "cell_type": "code",
   "execution_count": 40,
   "id": "70e0ddaf",
   "metadata": {},
   "outputs": [
    {
     "data": {
      "text/plain": [
       "[(1, 2, 3, 4), 'aa']"
      ]
     },
     "execution_count": 40,
     "metadata": {},
     "output_type": "execute_result"
    }
   ],
   "source": [
    "l"
   ]
  },
  {
   "cell_type": "code",
   "execution_count": 42,
   "id": "a970d13e",
   "metadata": {},
   "outputs": [],
   "source": [
    "j=(\"Ranjeet Kumar\")\n",
    "l.insert(0,j)"
   ]
  },
  {
   "cell_type": "code",
   "execution_count": 43,
   "id": "22abffd7",
   "metadata": {},
   "outputs": [
    {
     "data": {
      "text/plain": [
       "['Ranjeet Kumar', (1, 2, 3, 4), 'aa']"
      ]
     },
     "execution_count": 43,
     "metadata": {},
     "output_type": "execute_result"
    }
   ],
   "source": [
    "l"
   ]
  },
  {
   "cell_type": "code",
   "execution_count": 50,
   "id": "86a181d4",
   "metadata": {},
   "outputs": [
    {
     "data": {
      "text/plain": [
       "[]"
      ]
     },
     "execution_count": 50,
     "metadata": {},
     "output_type": "execute_result"
    }
   ],
   "source": [
    "l = [3,4,5,6,7,8]\n",
    "l[3:1]"
   ]
  },
  {
   "cell_type": "code",
   "execution_count": 49,
   "id": "d5a6c19b",
   "metadata": {},
   "outputs": [
    {
     "data": {
      "text/plain": [
       "[6, 7]"
      ]
     },
     "execution_count": 49,
     "metadata": {},
     "output_type": "execute_result"
    }
   ],
   "source": [
    "l = [3,4,5,6,7,8]\n",
    "l[3:-1]"
   ]
  },
  {
   "cell_type": "code",
   "execution_count": null,
   "id": "252e79a4",
   "metadata": {},
   "outputs": [],
   "source": []
  }
 ],
 "metadata": {
  "kernelspec": {
   "display_name": "Python 3 (ipykernel)",
   "language": "python",
   "name": "python3"
  },
  "language_info": {
   "codemirror_mode": {
    "name": "ipython",
    "version": 3
   },
   "file_extension": ".py",
   "mimetype": "text/x-python",
   "name": "python",
   "nbconvert_exporter": "python",
   "pygments_lexer": "ipython3",
   "version": "3.8.5"
  }
 },
 "nbformat": 4,
 "nbformat_minor": 5
}
